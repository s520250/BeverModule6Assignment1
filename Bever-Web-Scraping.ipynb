{
 "cells": [
  {
   "cell_type": "markdown",
   "metadata": {},
   "source": [
    "# Web Mining and Applied NLP (44-620)\n",
    "\n",
    "## Web Scraping and NLP with Requests, BeautifulSoup, and spaCy\n",
    "\n",
    "### Student Name: Sammie Bever\n",
    "https://github.com/s520250/BeverModule6Assignment1\n",
    "\n",
    "Perform the tasks described in the Markdown cells below.  When you have completed the assignment make sure your code cells have all been run (and have output beneath them) and ensure you have committed and pushed ALL of your changes to your assignment repository.\n",
    "\n",
    "Every question that requires you to write code will have a code cell underneath it; you may either write your entire solution in that cell or write it in a python file (`.py`), then import and run the appropriate code to answer the question."
   ]
  },
  {
   "cell_type": "markdown",
   "metadata": {},
   "source": [
    "# Question 1"
   ]
  },
  {
   "cell_type": "markdown",
   "metadata": {},
   "source": [
    "1. Write code that extracts the article html from https://web.archive.org/web/20210327165005/https://hackaday.com/2021/03/22/how-laser-headlights-work/ and dumps it to a .pkl (or other appropriate file)"
   ]
  },
  {
   "cell_type": "code",
   "execution_count": 1,
   "metadata": {},
   "outputs": [],
   "source": [
    "import requests\n",
    "from bs4 import BeautifulSoup\n",
    "\n",
    "article_page = requests.get('https://web.archive.org/web/20210327165005/https://hackaday.com/2021/03/22/how-laser-headlights-work/')\n",
    "article_html = article_page.text\n",
    "\n",
    "import pickle\n",
    "with open('headlights.pkl', 'wb') as f:\n",
    "    pickle.dump(article_page.text, f)"
   ]
  },
  {
   "cell_type": "markdown",
   "metadata": {},
   "source": [
    "# Question 2"
   ]
  },
  {
   "cell_type": "markdown",
   "metadata": {},
   "source": [
    "2. Read in your article's html source from the file you created in question 1 and print it's text (use `.get_text()`)"
   ]
  },
  {
   "cell_type": "code",
   "execution_count": 2,
   "metadata": {},
   "outputs": [
    {
     "name": "stdout",
     "output_type": "stream",
     "text": [
      "\n",
      "    \n",
      "        How Laser Headlights Work\n",
      "        \n",
      "            \n",
      "                130 Comments            \n",
      "            \n",
      "                by:\n",
      "                Lewin Day\n",
      "            \n",
      "        \n",
      "\n",
      "        \n",
      "            March 22, 2021\n",
      "            \n",
      "                \n",
      "                \n",
      "            \n",
      "        \n",
      "\n",
      "        \n",
      "    \n",
      "\n",
      "    \n",
      "        When we think about the onward march of automotive technology, headlights aren’t usually the first thing that come to mind. Engines, fuel efficiency, and the switch to electric power are all more front of mind. However, that doesn’t mean there aren’t thousands of engineers around the world working to improve the state of the art in automotive lighting day in, day out.\n",
      "Sealed beam headlights gave way to more modern designs once regulations loosened up, while bulbs moved from simple halogens to xenon HIDs and, more recently, LEDs. Now, a new technology is on the scene, with lasers!\n",
      "\n",
      "Laser Headlights?!\n",
      "BWM’s prototype laser headlight assemblies undergoing testing.\n",
      "The first image brought to mind by the phrase “laser headlights” is that of laser beams firing out the front of an automobile. Obviously, coherent beams of monochromatic light would make for poor illumination outside of a very specific spot quite some distance away. Thankfully for our eyes, laser headlights don’t work in this way at all.\n",
      "Instead, laser headlights consist of one or more solid state laser diodes mounted inside the headlight. These blue lasers are fired at a yellow phosphor, similar to that used in white LEDs. This produces a powerful, vibrant white light that can then be bounced off reflectors and out of the headlights towards the road. Laser headlights built in this way have several benefits. They’re more energy efficient than LEDs that put out the same amount of light, while also being more space efficient, too.\n",
      "BWM’s futuristic i8 was one of the first vehicles to ship with laser headlight technology.\n",
      "Laser headlights are still a nascent technology, thus far only appearing in a few BMW, Audi, and other select vehicles. BMW’s technology was developed in partnership with lighting experts OSRAM. In practice, a regular LED low-beam lamp is used, with the laser used to create an incredibly bright and focused spot, used for high-beams. This can provide illumination out to 600 meters ahead of the vehicle, double that of conventional LED high beams. The lights use indium gallium nitride diode lasers that were originally used in projectors, with power levels above 1 watt. One of the challenges in implementing such technology in an automotive environment is the need for it to operate at temperature extremes. While research lasers and laser pointers may primarily be used at typical room temperatures, automotive headlights must be able to withstand everything from 40 degrees below zero up to 50 degrees C. Thankfully, the laser’s high efficiency means it doesn’t have huge heat output of its own to further complicate things. Other engineering challenges involve tailoring the optics package for the rough-and-tumble, high vibration environment found in the automotive application. It’s also important to ensure, as with any such device, that the end user can’t be exposed to harmful laser radiation in the event of accident or malfunction.\n",
      "Tearing Down the Laser Headlight\n",
      "A marketing image showing the construction of an aftermarket LED/laser headlight. We’d take the laser power with a grain of salt — it’s difficult to imagine a 10 W laser shining directly on some small LEDs without melting a hole through the board in short order.\n",
      "An aftermarket has sprung up too, with delightfully innovative designs. Combined laser/LED headlights are readily available on Alibaba, designed as a drop in replacement for projector lamps on existing vehicles. These often use an LED low-beam, and a combined LED/laser high beam, where the laser diode shoots directly at the LED phosphor to excite it further, rather than using its own. These units often also come with fan cooling to keep the laser and LEDs below their maximum operational temperature. Such developments are exciting, though it’s important to be wary of the performance of unknown aftermarket headlights. Many aftermarket LED headlight “upgrades” fail to pass muster when it comes to real-world performance, and there’s no reason to believe hybrid LED/laser designs will be any different. We’d love to pass a selection of these parts through a full IIHS test protocol, but that’s sadly beyond the scope (and budget!) of this article.\n",
      "However, [mikeselectricstuff] has happened to lay his hands on both the BMW and aftermarket parts, tearing them all down in his workshop to see what makes them tick. The differences are multitude when laid bare on the bench. The AliExpress part is relatively simple, wired up no differently from a regular headlight. Interestingly, however, the laser high-beam circuit runs all the time in these parts. To prevent blinding other road users, a shutter is kept in place to block the light, which is moved out of the way with a solenoid when the driver turns on the high beam switch.\n",
      "Where the aftermarket part is a little out of left field, the BMW design is another thing entirely. The cutting-edge headlights are hooked up with multiple connectors and over 30 conductors, with much of the driver electronics living in an external controller. Much of this is to drive the various LEDs and stepper motors for slewing the headlights when steering. However, the laser assembly brings its own complexities. Twin light sensors are built inside to monitor the laser beam, and a special metal blocking arm sits directly in front of the diode, presumably to stop the laser light leaving the headlight in the event the phosphor coating burns through. It’s truly wild to get a look inside a modern luxury car’s headlight and see just how far we’ve come from the old days of simple sealed beams.\n",
      "Cost Versus Performance\n",
      "Despite the efficiency gains available, the technology remains expensive. Powerful laser diodes don’t come cheap, after all. However, as the technology trickles down to lower-end models, it’s likely that we could see economies of scale change that for the better. Indeed, if national authorities begin to demand higher performance headlights as standard, we could see laser headlights become the norm, rather than an expensive luxury. The technology could naturally be applied to home and commercial lighting, too — though we suspect the potential gains are limited enough that LED lighting will remain the norm for some time to come.\n",
      "The high light output of laser headlights in a compact package allows engineers greater freedom when designing the front-end of a car.\n",
      "As it currently stands, much of the appeal of the new technology is about the packaging benefits, which allow automotive designers greater freedom around the headlight area. Such concerns are less of a factor when it comes to light fittings in the home or office, or indeed, on lower-end automobiles. Regardless, it’s an exciting new application for lasers and one we’ll be sure to see more of in the future.\n",
      " \n",
      "\t            \n",
      "    \n",
      "    \t\t\t\t\t\n",
      "    \t\t\t\t\n",
      "    \t\t\t\t\t \n",
      "    \t\t\t\t\t\t\t\t\t\n",
      "    \t\t\t\n",
      "    \t\t\t\t\t\n",
      "    \t\t\t\t\n",
      "    \t\t\t\t\t\n",
      "    \t\t\t\t\t\t\t\t\t\n",
      "    \t\t\t\n",
      "    \t\t\t\t\t\n",
      "    \t\t\t\t\n",
      "    \t\t\t\t\t\n",
      "    \t\t\t\t\t\t\t\t\t\n",
      "    \t\t\t\n",
      "    \t\t\t\t\t\n",
      "                \n",
      "    \t\t\t\t\t\n",
      "    \t\t\t\t\t\t\t\t\t\n",
      "    \t\t\t\n",
      "    \t\t\t\n",
      "    \n",
      "        Posted in car hacks, Engineering, Featured, Laser Hacks, SliderTagged laser, laser headlight, laser headlights, light    \n",
      "\n"
     ]
    }
   ],
   "source": [
    "with open('headlights.pkl', 'rb') as f:\n",
    "    article_html = pickle.load(f)\n",
    "\n",
    "headlights = BeautifulSoup(article_html, 'html5lib')\n",
    "\n",
    "article_content = headlights.find('article')\n",
    "\n",
    "print(article_content.get_text())"
   ]
  },
  {
   "cell_type": "markdown",
   "metadata": {},
   "source": [
    "# Question 3"
   ]
  },
  {
   "cell_type": "markdown",
   "metadata": {},
   "source": [
    "3. Load the article text into a trained `spaCy` pipeline, and determine the 5 most frequent tokens (converted to lower case).  Print the common tokens with an appropriate label.  Additionally, print the tokens their frequencies (with appropriate labels). Make sure to remove things we don't care about (punctuation, stopwords, whitespace)."
   ]
  },
  {
   "cell_type": "code",
   "execution_count": 3,
   "metadata": {},
   "outputs": [
    {
     "name": "stdout",
     "output_type": "stream",
     "text": [
      "Most Common Tokens with Counts: [('laser', 35), ('headlights', 19), ('headlight', 11), ('technology', 10), ('led', 10)]\n",
      "Most Common Tokens: {'technology', 'headlights', 'led', 'laser', 'headlight'}\n"
     ]
    }
   ],
   "source": [
    "import spacy\n",
    "from spacytextblob.spacytextblob import SpacyTextBlob\n",
    "\n",
    "nlp = spacy.load('en_core_web_sm')\n",
    "nlp.add_pipe('spacytextblob')\n",
    "doc = nlp(article_content.get_text())\n",
    "\n",
    "# get rid of whitespaces and punctuation\n",
    "def we_care_about(token):\n",
    "    return not (token.is_space or token.is_punct)\n",
    "\n",
    "interesting_tokens = [token for token in doc if we_care_about(token)]\n",
    "\n",
    "# count the most frequent terms\n",
    "from collections import Counter\n",
    "word_freq = Counter(map(str,interesting_tokens))\n",
    "\n",
    "# remove stopwords\n",
    "def we_care_about(token):\n",
    "    return not (token.is_space or token.is_punct or token.is_stop)\n",
    "\n",
    "# converted to lower case, counted tokens, and printed list\n",
    "interesting_tokens = [str(token).lower() for token in doc if we_care_about(token)]\n",
    "word_freq = Counter(map(str,interesting_tokens))\n",
    "print(\"Most Common Tokens with Counts:\", word_freq.most_common(5))\n",
    "\n",
    "# store top 5 tokens in a set\n",
    "top5tokens = set()\n",
    "for token, freq in word_freq.most_common(5):\n",
    "    top5tokens.add(token)\n",
    "print(\"Most Common Tokens:\", top5tokens)"
   ]
  },
  {
   "cell_type": "markdown",
   "metadata": {},
   "source": [
    "# Question 4"
   ]
  },
  {
   "cell_type": "markdown",
   "metadata": {},
   "source": [
    "4. Load the article text into a trained `spaCy` pipeline, and determine the 5 most frequent lemmas (converted to lower case).  Print the common lemmas with an appropriate label.  Additionally, print the lemmas with their frequencies (with appropriate labels). Make sure to remove things we don't care about (punctuation, stopwords, whitespace)."
   ]
  },
  {
   "cell_type": "code",
   "execution_count": 4,
   "metadata": {},
   "outputs": [
    {
     "name": "stdout",
     "output_type": "stream",
     "text": [
      "Most Common Lemmas: [('laser', 40), ('headlight', 28), ('beam', 12), ('led', 11), ('technology', 10)]\n",
      "Most Common Lemmas: {'technology', 'led', 'laser', 'headlight', 'beam'}\n"
     ]
    }
   ],
   "source": [
    "# Changed to lemmas, lower case, counted lemmas, and printed list\n",
    "interesting_lemmas = [token.lemma_.lower() for token in doc if we_care_about(token)]\n",
    "lemma_freq = Counter(interesting_lemmas)\n",
    "print(\"Most Common Lemmas:\", lemma_freq.most_common(5))\n",
    "\n",
    "# store top 5 lemmas in a set\n",
    "top5lemmas = set()\n",
    "for token, freq in lemma_freq.most_common(5):\n",
    "    top5lemmas.add(token)\n",
    "print(\"Most Common Lemmas:\", top5lemmas)"
   ]
  },
  {
   "cell_type": "markdown",
   "metadata": {},
   "source": [
    "# Question 5"
   ]
  },
  {
   "cell_type": "markdown",
   "metadata": {},
   "source": [
    "5. Define the following methods:\n",
    "    * `score_sentence_by_token(sentence, interesting_token)` that takes a sentence and a list of interesting token and returns the number of times that any of the interesting words appear in the sentence divided by the number of words in the sentence\n",
    "    * `score_sentence_by_lemma(sentence, interesting_lemmas)` that takes a sentence and a list of interesting lemmas and returns the number of times that any of the interesting lemmas appear in the sentence divided by the number of words in the sentence\n",
    "    \n",
    "You may find some of the code from the in class notes useful; feel free to use methods (rewrite them in this cell as well).  Test them by showing the score of the first sentence in your article using the frequent tokens and frequent lemmas identified in question 3."
   ]
  },
  {
   "cell_type": "code",
   "execution_count": 5,
   "metadata": {},
   "outputs": [
    {
     "name": "stdout",
     "output_type": "stream",
     "text": [
      "Tokens {'technology', 'headlights', 'led', 'laser', 'headlight'}\n",
      "Lemmas {'technology', 'led', 'laser', 'headlight', 'beam'}\n"
     ]
    }
   ],
   "source": [
    "# print top5tokens and top5lemmas for reference\n",
    "print(\"Tokens\",top5tokens)\n",
    "print(\"Lemmas\",top5lemmas)"
   ]
  },
  {
   "cell_type": "code",
   "execution_count": 6,
   "metadata": {},
   "outputs": [
    {
     "name": "stdout",
     "output_type": "stream",
     "text": [
      "Interesting or Top 5 Tokens: {'technology', 'headlights', 'led', 'laser', 'headlight'}\n",
      "Score sentence by token: 0.09523809523809523\n"
     ]
    }
   ],
   "source": [
    "# score sentence by token\n",
    "print(\"Interesting or Top 5 Tokens:\",top5tokens)\n",
    "    \n",
    "def score_sentence_by_token(sentence: int, doc: doc, top5tokens: list)->float:\n",
    "    count = 0\n",
    "    words = 0\n",
    "    sentences = list(doc.sents)\n",
    "    for token in sentences[sentence]:\n",
    "        if not(token.is_space or token.is_punct):\n",
    "            words += 1\n",
    "        if token.text.lower() in top5tokens:\n",
    "            count += 1\n",
    "    return count/words\n",
    "\n",
    "print('Score sentence by token:',score_sentence_by_token(2, doc, list(top5tokens)[0:5]))"
   ]
  },
  {
   "cell_type": "code",
   "execution_count": 7,
   "metadata": {},
   "outputs": [
    {
     "name": "stdout",
     "output_type": "stream",
     "text": [
      "Interesting or Top 5 Tokens: {'technology', 'led', 'laser', 'headlight', 'beam'}\n",
      "Score sentence by lemma: 0.047619047619047616\n"
     ]
    }
   ],
   "source": [
    "#score sentence by lemmas\n",
    "print(\"Interesting or Top 5 Tokens:\",top5lemmas)\n",
    "def score_sentence_by_lemma(sentence: int, doc: doc, top5lemmas: list)->float:\n",
    "    count = 0\n",
    "    words = 0\n",
    "    sentences = list(doc.sents)\n",
    "    for lemma in sentences[sentence]:\n",
    "        if not(lemma.is_space or lemma.is_punct):\n",
    "            words += 1\n",
    "        if lemma.text.lower() in top5lemmas:\n",
    "            count += 1\n",
    "    return count/words\n",
    "\n",
    "print('Score sentence by lemma:',score_sentence_by_lemma(2, doc, list(top5lemmas)[0:5]))"
   ]
  },
  {
   "cell_type": "markdown",
   "metadata": {},
   "source": [
    "# Question 6"
   ]
  },
  {
   "cell_type": "markdown",
   "metadata": {},
   "source": [
    "6. Make a list containing the scores (using tokens) of every sentence in the article, and plot a histogram with appropriate titles and axis labels of the scores. From your histogram, what seems to be the most common range of scores (put the answer in a comment after your code)?"
   ]
  },
  {
   "cell_type": "code",
   "execution_count": 8,
   "metadata": {},
   "outputs": [
    {
     "name": "stdout",
     "output_type": "stream",
     "text": [
      "[0, 0.16666666666666666, 0.09523809523809523, 0.0, 0.0, 0.038461538461538464, 0.1, 1.0, 0.25, 0.13043478260869565, 0.0, 0.14285714285714285, 0.25, 0.0, 0.045454545454545456, 0.2222222222222222, 0.0, 0.1875, 0.15, 0.09090909090909091, 0.07692307692307693, 0.05263157894736842, 0.0, 0.045454545454545456, 0.07407407407407407, 0.038461538461538464, 0.0, 0.03333333333333333, 0.29411764705882354, 0.05555555555555555, 0.0, 0.14285714285714285, 0.15151515151515152, 0.05263157894736842, 0.05555555555555555, 0.12903225806451613, 0.0, 0.0, 0.0, 0.07142857142857142, 0.07142857142857142, 0.0, 0.0, 0.04, 0.05555555555555555, 0.125, 0.07317073170731707, 0.03225806451612903, 0.08333333333333333, 0.1111111111111111, 0.04, 0.12, 0.06060606060606061, 0.08695652173913043, 0.07407407407407407, 0.0, 0.0, 0.4]\n"
     ]
    },
    {
     "data": {
      "image/png": "[encoded data removed]",
      "text/plain": [
       "<Figure size 432x288 with 1 Axes>"
      ]
     },
     "metadata": {
      "needs_background": "light"
     },
     "output_type": "display_data"
    }
   ],
   "source": [
    "import matplotlib.pyplot as plt\n",
    "sentences = list(doc.sents)\n",
    "\n",
    "def sent_len(sent):\n",
    "    count = 0\n",
    "    for token in sent:\n",
    "        if not(token.is_space or token.is_punct):\n",
    "            count += 1\n",
    "    return count\n",
    "\n",
    "def score_sentence_by_token(sent, top5tokens):\n",
    "    count = 0\n",
    "    if sent_len(sent) == 0:\n",
    "        return 0\n",
    "    for token in sent:\n",
    "        if str(token).lower() in top5tokens:\n",
    "            count += 1\n",
    "    return count/sent_len(sent)\n",
    "\n",
    "# make a list of token scores\n",
    "token_scores_list = []\n",
    "\n",
    "for sentence in sentences:\n",
    "    token_scores_list.append(score_sentence_by_token(sentence, top5tokens))\n",
    "print(token_scores_list)\n",
    "\n",
    "# plot histogram\n",
    "plt.hist(token_scores_list)\n",
    "plt.title('Sentence Scores by Token')\n",
    "plt.ylabel('Token Count')\n",
    "plt.xlabel('Scores')\n",
    "plt.show()\n",
    "\n",
    "# The most common range of scores (using tokens) appears to be 0.0 to 0.1"
   ]
  },
  {
   "cell_type": "markdown",
   "metadata": {},
   "source": [
    "# Question 7"
   ]
  },
  {
   "cell_type": "markdown",
   "metadata": {},
   "source": [
    "7. Make a list containing the scores (using lemmas) of every sentence in the article, and plot a histogram with appropriate titles and axis labels of the scores.  From your histogram, what seems to be the most common range of scores (put the answer in a comment after your code)?"
   ]
  },
  {
   "cell_type": "code",
   "execution_count": 9,
   "metadata": {},
   "outputs": [
    {
     "name": "stdout",
     "output_type": "stream",
     "text": [
      "[0, 0.08333333333333333, 0.047619047619047616, 0.0, 0.0, 0.038461538461538464, 0.1, 0.5, 0.25, 0.08695652173913043, 0.0, 0.07142857142857142, 0.1875, 0.0, 0.0, 0.1111111111111111, 0.0, 0.1875, 0.1, 0.09090909090909091, 0.11538461538461539, 0.05263157894736842, 0.0, 0.045454545454545456, 0.037037037037037035, 0.038461538461538464, 0.0, 0.03333333333333333, 0.29411764705882354, 0.05555555555555555, 0.0, 0.09523809523809523, 0.21212121212121213, 0.05263157894736842, 0.0, 0.12903225806451613, 0.0, 0.0, 0.0, 0.07142857142857142, 0.14285714285714285, 0.02857142857142857, 0.0, 0.0, 0.0, 0.125, 0.0975609756097561, 0.03225806451612903, 0.08333333333333333, 0.1111111111111111, 0.04, 0.04, 0.06060606060606061, 0.043478260869565216, 0.07407407407407407, 0.0, 0.0, 0.3333333333333333]\n"
     ]
    },
    {
     "data": {
      "image/png": "[encoded data removed]",
      "text/plain": [
       "<Figure size 432x288 with 1 Axes>"
      ]
     },
     "metadata": {
      "needs_background": "light"
     },
     "output_type": "display_data"
    }
   ],
   "source": [
    "def score_sentence_by_lemmas(sent, top5lemmas):\n",
    "    count = 0\n",
    "    if sent_len(sent) == 0:\n",
    "        return 0\n",
    "    for token in sent:\n",
    "        if str(token).lower() in top5lemmas:\n",
    "            count += 1\n",
    "    return count/sent_len(sent)\n",
    "\n",
    "# make a list of lemma scores\n",
    "lemmas_scores_list = []\n",
    "\n",
    "for sentence in sentences:\n",
    "    lemmas_scores_list.append(score_sentence_by_lemmas(sentence, top5lemmas))\n",
    "print(lemmas_scores_list)\n",
    "\n",
    "# plot histogram\n",
    "plt.hist(lemmas_scores_list)\n",
    "plt.title('Sentence Scores by Lemmas')\n",
    "plt.ylabel('Lemmas Count')\n",
    "plt.xlabel('Scores')\n",
    "plt.show()\n",
    "\n",
    "# The most common range of scores (using lemmas) appears to be 0.0 to 0.05"
   ]
  },
  {
   "cell_type": "markdown",
   "metadata": {
    "tags": []
   },
   "source": [
    "# Question 8"
   ]
  },
  {
   "cell_type": "markdown",
   "metadata": {},
   "source": [
    "8. Which tokens and lexems would be ommitted from the lists generated in questions 3 and 4 if we only wanted to consider nouns as interesting words?  How might we change the code to only consider nouns? Put your answer in this Markdown cell (you can edit it by double clicking it)."
   ]
  },
  {
   "cell_type": "markdown",
   "metadata": {
    "tags": []
   },
   "source": [
    "### Answer:"
   ]
  },
  {
   "cell_type": "markdown",
   "metadata": {},
   "source": [
    "Looking at only nouns did not change our results by much because all of our most common tokens and lemmas appear to be nouns in this particular case. Looking at only nouns did not change our results at all for lemmas, aside from slightly different counts. However, it did change our results for tokens. For tokens, we lost the word \"led\" and replaced it with \"beam.\" I am not sure if it is counting \"led\" as a noun when looking at tokens, but it does count \"led\" when looking at lemmas. It may think that \"led\" is a verb in this case. However, it does appear to give us slightly different counts for both."
   ]
  },
  {
   "cell_type": "code",
   "execution_count": 10,
   "metadata": {},
   "outputs": [
    {
     "name": "stdout",
     "output_type": "stream",
     "text": [
      "Top 5 Tokens [('laser', 35), ('headlights', 19), ('headlight', 11), ('technology', 10), ('led', 10)]\n",
      "Top 5 Noun Tokens [('laser', 29), ('headlights', 17), ('technology', 10), ('headlight', 8), ('beam', 7)]\n",
      "\n",
      "\n",
      "Top 5 Lemmas [('laser', 40), ('headlight', 28), ('beam', 12), ('led', 11), ('technology', 10)]\n",
      "Top 5 Noun Lemmas [('laser', 34), ('headlight', 25), ('beam', 12), ('led', 11), ('technology', 10)]\n"
     ]
    }
   ],
   "source": [
    "# look at noun tokens\n",
    "import spacy\n",
    "from spacytextblob.spacytextblob import SpacyTextBlob\n",
    "\n",
    "nlp = spacy.load('en_core_web_sm')\n",
    "nlp.add_pipe('spacytextblob')\n",
    "doc = nlp(article_content.get_text())\n",
    "\n",
    "def nouns_we_care_about(token):\n",
    "    for token in token:\n",
    "        if token.pos_ == 'NOUN':\n",
    "            return not (token.is_space or token.is_punct or token.is_stop)\n",
    "\n",
    "interesting_noun_tokens = [str(token).lower() for token in doc if token.pos_ == 'NOUN']\n",
    "noun_word_freq = Counter(map(str,interesting_noun_tokens))\n",
    "\n",
    "# store top 5 tokens in a set\n",
    "top5nountokens = set()\n",
    "for token, freq in noun_word_freq.most_common(5):\n",
    "    top5nountokens.add(token)\n",
    "\n",
    "# print comparison of top 5 tokens vs top 5 NOUN tokens\n",
    "print(\"Top 5 Tokens\",word_freq.most_common(5))\n",
    "print(\"Top 5 Noun Tokens\", noun_word_freq.most_common(5))\n",
    "print()\n",
    "\n",
    "\n",
    "\n",
    "\n",
    "# look at noun lemmas\n",
    "interesting_noun_lemmas = [token.lemma_.lower() for token in doc if token.pos_ == 'NOUN']\n",
    "lemma_noun_freq = Counter(interesting_noun_lemmas)\n",
    "\n",
    "# store top 5 lemmas in a set\n",
    "top5nounlemmas = set()\n",
    "for token, freq in lemma_noun_freq.most_common(5):\n",
    "    top5nounlemmas.add(token)\n",
    "    \n",
    "# print comparison of top 5 lemmas vs top 5 NOUN lemmas\n",
    "print()\n",
    "print(\"Top 5 Lemmas\",lemma_freq.most_common(5))\n",
    "print(\"Top 5 Noun Lemmas\", lemma_noun_freq.most_common(5))\n",
    "\n",
    "# answer to question 8 in markdown cell above this cell"
   ]
  }
 ],
 "metadata": {
  "kernelspec": {
   "display_name": "Python 3 (ipykernel)",
   "language": "python",
   "name": "python3"
  },
  "language_info": {
   "codemirror_mode": {
    "name": "ipython",
    "version": 3
   },
   "file_extension": ".py",
   "mimetype": "text/x-python",
   "name": "python",
   "nbconvert_exporter": "python",
   "pygments_lexer": "ipython3",
   "version": "3.9.7"
  }
 },
 "nbformat": 4,
 "nbformat_minor": 4
}
